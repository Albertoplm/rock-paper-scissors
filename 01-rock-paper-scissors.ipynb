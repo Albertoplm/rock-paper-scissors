{
 "cells": [
  {
   "cell_type": "markdown",
   "metadata": {},
   "source": [
    "<img src=\"https://bit.ly/2VnXWr2\" width=\"100\" align=\"left\">"
   ]
  },
  {
   "cell_type": "markdown",
   "metadata": {},
   "source": [
    "# Rock, Paper & Scissors\n",
    "\n",
    "Let's play the famous game against our computer. You can check the rules [here](https://en.wikipedia.org/wiki/Rock%E2%80%93paper%E2%80%93scissors). \n",
    "\n",
    "## Task\n",
    "Create a program that imitates the playability of the well known game of rock, paper, scissors. Follow the guidelines provided.\n",
    "\n",
    "## Tools\n",
    "1. Loop: **for/while**\n",
    "2. Functions: **input(), print()...**\n",
    "3. Conditional statements: **if, elif, else**\n",
    "4. Definition of functions. Modular programming\n",
    "5. Import modules\n",
    "\n",
    "**To solve this challenge, the use of functions is recommended.**\n",
    "\n",
    "#### 1. Import the choice function of the random module."
   ]
  },
  {
   "cell_type": "code",
   "execution_count": 2,
   "metadata": {},
   "outputs": [],
   "source": [
    "from random import choice"
   ]
  },
  {
   "cell_type": "markdown",
   "metadata": {},
   "source": [
    "#### 2. Create a list that includes the 3 possible gesture options of the game: 'rock', 'paper' or 'scissors'. Store the list in a variable called `gestures`."
   ]
  },
  {
   "cell_type": "code",
   "execution_count": 3,
   "metadata": {},
   "outputs": [],
   "source": [
    "gestures = [\"rock\", \"paper\", \"scissors\"]"
   ]
  },
  {
   "cell_type": "markdown",
   "metadata": {},
   "source": [
    "#### 3. Create a variable called `n_rounds` to store the maximum number of rounds to play in a game. \n",
    "Remember that the number of rounds must be odd: 1, 3, 5, ..."
   ]
  },
  {
   "cell_type": "code",
   "execution_count": 23,
   "metadata": {},
   "outputs": [
    {
     "name": "stdin",
     "output_type": "stream",
     "text": [
      "How many rounds do you want to play?? (must be an odd number) 3\n"
     ]
    }
   ],
   "source": [
    "n_rounds = 0\n",
    "while int(n_rounds) % 2 == 0:\n",
    "    n_rounds = int(input(\"How many rounds do you want to play?? (must be an odd number)\"))\n",
    "    if n_rounds % 2 == 0:\n",
    "        print(\"Remember, must be and odd number\")"
   ]
  },
  {
   "cell_type": "code",
   "execution_count": 5,
   "metadata": {},
   "outputs": [
    {
     "data": {
      "text/plain": [
       "0"
      ]
     },
     "execution_count": 5,
     "metadata": {},
     "output_type": "execute_result"
    }
   ],
   "source": [
    "n_rounds"
   ]
  },
  {
   "cell_type": "markdown",
   "metadata": {},
   "source": [
    "#### 4. Create a variable called `rounds_to_win` to store the number of rounds that a player must win to win the game.\n",
    "**Hint**: the value stored in `rounds_to_win` depends on the value of `n_rounds`. "
   ]
  },
  {
   "cell_type": "code",
   "execution_count": 6,
   "metadata": {},
   "outputs": [
    {
     "name": "stdout",
     "output_type": "stream",
     "text": [
      "0\n"
     ]
    }
   ],
   "source": [
    "rounds_to_win = round((n_rounds/2))\n",
    "print(rounds_to_win)"
   ]
  },
  {
   "cell_type": "markdown",
   "metadata": {},
   "source": [
    "#### 5. Create two variables to store the number of rounds that the computer and the player have won. Call these variables `cpu_score` and `player_score`."
   ]
  },
  {
   "cell_type": "code",
   "execution_count": 7,
   "metadata": {},
   "outputs": [],
   "source": [
    "cpu_score = 0\n",
    "player_score = 0"
   ]
  },
  {
   "cell_type": "markdown",
   "metadata": {},
   "source": [
    "#### 6. Define a function that randomly returns one of the 3 gesture options.\n",
    "You will use this function to simulate the gesture choice of the computer. "
   ]
  },
  {
   "cell_type": "markdown",
   "metadata": {},
   "source": [
    "#def rock_paper_scissors(gestures):\n",
    "    import random\n",
    "    random.shuffle(gestures)\n",
    "    gestures = gestures[0]\n",
    "    return gestures"
   ]
  },
  {
   "cell_type": "code",
   "execution_count": 8,
   "metadata": {},
   "outputs": [],
   "source": [
    "def computer_choice():\n",
    "    from random import randint\n",
    "    gestures = [\"rock\", \"paper\", \"scissors\"]\n",
    "    return gestures[randint(0,2)]"
   ]
  },
  {
   "cell_type": "code",
   "execution_count": 9,
   "metadata": {},
   "outputs": [
    {
     "data": {
      "text/plain": [
       "'paper'"
      ]
     },
     "execution_count": 9,
     "metadata": {},
     "output_type": "execute_result"
    }
   ],
   "source": [
    "computer_choice()"
   ]
  },
  {
   "cell_type": "markdown",
   "metadata": {},
   "source": [
    "#### 7. Define a function that asks the player which is the gesture he or she wants to show: 'rock', 'paper' or 'scissors'.\n",
    "The player should only be allowed to choose one of the 3 gesture options. If the player's choice is not rock, paper or scissors, keep asking until it is."
   ]
  },
  {
   "cell_type": "code",
   "execution_count": 10,
   "metadata": {},
   "outputs": [],
   "source": [
    "def election():\n",
    "    x = False\n",
    "    while x == False:\n",
    "        str = input(\"Rock, Paper or Schissors!!:  \")\n",
    "        if str.lower() == \"rock\" or str.lower() == \"paper\" or str.lower() == \"schissors\":\n",
    "            x = True\n",
    "            return str.lower()\n",
    "        else:\n",
    "            print(f\"That is not what I ask for\")"
   ]
  },
  {
   "cell_type": "code",
   "execution_count": 11,
   "metadata": {},
   "outputs": [
    {
     "name": "stdin",
     "output_type": "stream",
     "text": [
      "Rock, Paper or Schissors!!:   rock\n"
     ]
    },
    {
     "data": {
      "text/plain": [
       "'rock'"
      ]
     },
     "execution_count": 11,
     "metadata": {},
     "output_type": "execute_result"
    }
   ],
   "source": [
    "election()"
   ]
  },
  {
   "cell_type": "markdown",
   "metadata": {},
   "source": [
    "#### 8. Define a function that checks who won a round. \n",
    "The function should return 0 if there is a tie, 1 if the computer wins and 2 if the player wins."
   ]
  },
  {
   "cell_type": "code",
   "execution_count": 12,
   "metadata": {},
   "outputs": [],
   "source": [
    "def result():\n",
    "    computer = computer_choice()\n",
    "    player = election()\n",
    "    if player == computer:\n",
    "        return \"0\"\n",
    "    elif computer == \"rock\":\n",
    "        if player == \"paper\":\n",
    "            return \"2\"\n",
    "        else: \n",
    "            return \"1\"\n",
    "    elif computer == \"paper\":\n",
    "        if player == \"scissors\":\n",
    "            return \"2\"\n",
    "        else:\n",
    "            return \"1\"\n",
    "    elif computer == \"scissors\":\n",
    "        if player == \"rock\":\n",
    "            return \"2\"\n",
    "        else:\n",
    "            return \"1\""
   ]
  },
  {
   "cell_type": "code",
   "execution_count": 13,
   "metadata": {},
   "outputs": [
    {
     "name": "stdin",
     "output_type": "stream",
     "text": [
      "Rock, Paper or Schissors!!:   rock\n"
     ]
    },
    {
     "data": {
      "text/plain": [
       "'1'"
      ]
     },
     "execution_count": 13,
     "metadata": {},
     "output_type": "execute_result"
    }
   ],
   "source": [
    "result()"
   ]
  },
  {
   "cell_type": "markdown",
   "metadata": {},
   "source": [
    "#### 9. Define a function that prints the choice of the computer, the choice of the player and a message that announces who won the current round. \n",
    "You should also use this function to update the variables that count the number of rounds that the computer and the player have won. The score of the winner increases by one point. If there is a tie, the score does not increase."
   ]
  },
  {
   "cell_type": "code",
   "execution_count": 14,
   "metadata": {},
   "outputs": [],
   "source": [
    "def nueve():\n",
    "    global player_score \n",
    "    global cpu_score\n",
    "    resultado = result()\n",
    "    if resultado == \"2\":\n",
    "        player_score += 1\n",
    "        return f\"You won this round!! Score board: Player: {player_score} CPU: {cpu_score}\"\n",
    "    if resultado == \"1\":\n",
    "        cpu_score += 1\n",
    "        return f\"The computer won this round... Score board: Player: {player_score} CPU: {cpu_score}\"\n",
    "    else:\n",
    "        return f\"There is a tie! Score board: Player: {player_score} CPU: {cpu_score} \""
   ]
  },
  {
   "cell_type": "code",
   "execution_count": 15,
   "metadata": {},
   "outputs": [
    {
     "name": "stdin",
     "output_type": "stream",
     "text": [
      "Rock, Paper or Schissors!!:   rock\n"
     ]
    },
    {
     "data": {
      "text/plain": [
       "'There is a tie! Score board: Player: 0 CPU: 0 '"
      ]
     },
     "execution_count": 15,
     "metadata": {},
     "output_type": "execute_result"
    }
   ],
   "source": [
    "nueve()"
   ]
  },
  {
   "cell_type": "markdown",
   "metadata": {},
   "source": [
    "#### 10. Now it's time to code the execution of the game using the functions and variables you defined above. \n",
    "\n",
    "First, create a loop structure that repeats while no player reaches the minimum score necessary to win and the number of rounds is less than the maximum number of rounds to play in a game.  \n",
    "\n",
    "Inside the loop, use the functions and variables above to create the execution of a round: ask for the player's choice, generate the random choice of the computer, show the round results, update the scores, etc. "
   ]
  },
  {
   "cell_type": "code",
   "execution_count": 20,
   "metadata": {},
   "outputs": [],
   "source": [
    "n_rounds = 0\n",
    "rounds_to_win = round((n_rounds/2))\n",
    "cpu_score = 0\n",
    "player_score = 0\n",
    "def game():\n",
    "    n_rounds = 0\n",
    "    while int(n_rounds) % 2 == 0:\n",
    "        n_rounds = int(input(\"How many rounds do you want to play?? (must be an odd number)\"))\n",
    "        if n_rounds % 2 == 0:\n",
    "            print(\"Remember, must be and odd number\")\n",
    "    rounds = 0\n",
    "    global rounds_to_win\n",
    "    global player_score \n",
    "    global cpu_score\n",
    "    while rounds != n_rounds - 1 or rounds_to_win > player_score or rounds_to_win > cpu_score:\n",
    "        print(nueve())\n",
    "        rounds += 1\n",
    "    nueve()\n",
    "    if player_score > cpu_score:\n",
    "        return f\"You smashed the game! ScoreBoard: Player: {player_score} CPU: {cpu_score}\"\n",
    "    if cpu_score > player_score:\n",
    "        return f\"You lose...we wish you better luck next time! ScoreBoard: Player: {player_score} CPU: {cpu_score}\"\n",
    "    if cpu_score == player_score:\n",
    "        return f\"Tie! ScoreBoard: Player: {player_score} CPU: {cpu_score}\""
   ]
  },
  {
   "cell_type": "code",
   "execution_count": 22,
   "metadata": {},
   "outputs": [
    {
     "name": "stdin",
     "output_type": "stream",
     "text": [
      "How many rounds do you want to play?? (must be an odd number) 4\n"
     ]
    },
    {
     "name": "stdout",
     "output_type": "stream",
     "text": [
      "Remember, must be and odd number\n"
     ]
    },
    {
     "name": "stdin",
     "output_type": "stream",
     "text": [
      "How many rounds do you want to play?? (must be an odd number) 5\n",
      "Rock, Paper or Schissors!!:   rock\n"
     ]
    },
    {
     "name": "stdout",
     "output_type": "stream",
     "text": [
      "There is a tie! Score board: Player: 0 CPU: 0 \n"
     ]
    },
    {
     "name": "stdin",
     "output_type": "stream",
     "text": [
      "Rock, Paper or Schissors!!:   rock\n"
     ]
    },
    {
     "name": "stdout",
     "output_type": "stream",
     "text": [
      "There is a tie! Score board: Player: 0 CPU: 0 \n"
     ]
    },
    {
     "name": "stdin",
     "output_type": "stream",
     "text": [
      "Rock, Paper or Schissors!!:   rock\n"
     ]
    },
    {
     "name": "stdout",
     "output_type": "stream",
     "text": [
      "You won this round!! Score board: Player: 1 CPU: 0\n"
     ]
    },
    {
     "name": "stdin",
     "output_type": "stream",
     "text": [
      "Rock, Paper or Schissors!!:   rock\n"
     ]
    },
    {
     "name": "stdout",
     "output_type": "stream",
     "text": [
      "You won this round!! Score board: Player: 2 CPU: 0\n"
     ]
    },
    {
     "name": "stdin",
     "output_type": "stream",
     "text": [
      "Rock, Paper or Schissors!!:   rock\n"
     ]
    },
    {
     "data": {
      "text/plain": [
       "'You smashed the game! ScoreBoard: Player: 2 CPU: 0'"
      ]
     },
     "execution_count": 22,
     "metadata": {},
     "output_type": "execute_result"
    }
   ],
   "source": [
    "game()"
   ]
  },
  {
   "cell_type": "raw",
   "metadata": {},
   "source": [
    "#### 11. Print the winner of the game based on who won more rounds.\n",
    "Remember that the game might be tied. "
   ]
  },
  {
   "cell_type": "code",
   "execution_count": 140,
   "metadata": {},
   "outputs": [
    {
     "name": "stdin",
     "output_type": "stream",
     "text": [
      "How many rounds do you want to play?? (must be an odd number) 4\n"
     ]
    },
    {
     "name": "stdout",
     "output_type": "stream",
     "text": [
      "Remember, must be and odd number\n"
     ]
    },
    {
     "name": "stdin",
     "output_type": "stream",
     "text": [
      "How many rounds do you want to play?? (must be an odd number) 4\n"
     ]
    },
    {
     "name": "stdout",
     "output_type": "stream",
     "text": [
      "Remember, must be and odd number\n"
     ]
    },
    {
     "name": "stdin",
     "output_type": "stream",
     "text": [
      "How many rounds do you want to play?? (must be an odd number) 5\n",
      "Rock, Paper or Schissors!!:   rock\n"
     ]
    },
    {
     "name": "stdout",
     "output_type": "stream",
     "text": [
      "You won this round!! Score board: Player: 1 CPU: 0\n"
     ]
    },
    {
     "name": "stdin",
     "output_type": "stream",
     "text": [
      "Rock, Paper or Schissors!!:   rock\n"
     ]
    },
    {
     "name": "stdout",
     "output_type": "stream",
     "text": [
      "You won this round!! Score board: Player: 2 CPU: 0\n"
     ]
    },
    {
     "name": "stdin",
     "output_type": "stream",
     "text": [
      "Rock, Paper or Schissors!!:   rock\n"
     ]
    },
    {
     "name": "stdout",
     "output_type": "stream",
     "text": [
      "There is a tie! Score board: Player: 2 CPU: 0 \n"
     ]
    },
    {
     "name": "stdin",
     "output_type": "stream",
     "text": [
      "Rock, Paper or Schissors!!:   rock\n"
     ]
    },
    {
     "name": "stdout",
     "output_type": "stream",
     "text": [
      "The computer won this round... Score board: Player: 2 CPU: 1\n"
     ]
    },
    {
     "name": "stdin",
     "output_type": "stream",
     "text": [
      "Rock, Paper or Schissors!!:   rock\n"
     ]
    },
    {
     "data": {
      "text/plain": [
       "'You smashed the game! ScoreBoard: Player: 3 CPU: 1'"
      ]
     },
     "execution_count": 140,
     "metadata": {},
     "output_type": "execute_result"
    }
   ],
   "source": [
    "n_rounds = 0\n",
    "rounds_to_win = round((n_rounds/2))\n",
    "cpu_score = 0\n",
    "player_score = 0\n",
    "def computer_choice():\n",
    "    from random import randint\n",
    "    gestures = [\"rock\", \"paper\", \"scissors\"]\n",
    "    return gestures[randint(0,2)]\n",
    "def election():\n",
    "    x = False\n",
    "    while x == False:\n",
    "        str = input(\"Rock, Paper or Schissors!!:  \")\n",
    "        if str.lower() == \"rock\" or str.lower() == \"paper\" or str.lower() == \"schissors\":\n",
    "            x = True\n",
    "            return str.lower()\n",
    "        else:\n",
    "            print(f\"That is not what I ask for\")\n",
    "def result():\n",
    "    computer = computer_choice()\n",
    "    player = election()\n",
    "    if player == computer:\n",
    "        return \"0\"\n",
    "    elif computer == \"rock\":\n",
    "        if player == \"paper\":\n",
    "            return \"2\"\n",
    "        else: \n",
    "            return \"1\"\n",
    "    elif computer == \"paper\":\n",
    "        if player == \"scissors\":\n",
    "            return \"2\"\n",
    "        else:\n",
    "            return \"1\"\n",
    "    elif computer == \"scissors\":\n",
    "        if player == \"rock\":\n",
    "            return \"2\"\n",
    "        else:\n",
    "            return \"1\"\n",
    "def nueve():\n",
    "    global player_score \n",
    "    global cpu_score\n",
    "    resultado = result()\n",
    "    if resultado == \"2\":\n",
    "        player_score += 1\n",
    "        return f\"You won this round!! Score board: Player: {player_score} CPU: {cpu_score}\"\n",
    "    if resultado == \"1\":\n",
    "        cpu_score += 1\n",
    "        return f\"The computer won this round... Score board: Player: {player_score} CPU: {cpu_score}\"\n",
    "    else:\n",
    "        return f\"There is a tie! Score board: Player: {player_score} CPU: {cpu_score} \"\n",
    "def game():\n",
    "    n_rounds = 0\n",
    "    while int(n_rounds) % 2 == 0:\n",
    "        n_rounds = int(input(\"How many rounds do you want to play?? (must be an odd number)\"))\n",
    "        if n_rounds % 2 == 0:\n",
    "            print(\"Remember, must be and odd number\")\n",
    "    rounds = 0\n",
    "    global rounds_to_win\n",
    "    global player_score \n",
    "    global cpu_score\n",
    "    while rounds != n_rounds - 1 or rounds_to_win > player_score or rounds_to_win > cpu_score:\n",
    "        print(nueve())\n",
    "        rounds += 1\n",
    "    nueve()\n",
    "    if player_score > cpu_score:\n",
    "        return f\"You smashed the game! ScoreBoard: Player: {player_score} CPU: {cpu_score}\"\n",
    "    if cpu_score > player_score:\n",
    "        return f\"You lose...we wish you better luck next time! ScoreBoard: Player: {player_score} CPU: {cpu_score}\"\n",
    "    if cpu_score == player_score:\n",
    "        return f\"Tie! ScoreBoard: Player: {player_score} CPU: {cpu_score}\"\n",
    "game()"
   ]
  },
  {
   "cell_type": "code",
   "execution_count": null,
   "metadata": {},
   "outputs": [],
   "source": []
  },
  {
   "cell_type": "code",
   "execution_count": null,
   "metadata": {},
   "outputs": [],
   "source": []
  }
 ],
 "metadata": {
  "kernelspec": {
   "display_name": "Python 3",
   "language": "python",
   "name": "python3"
  },
  "language_info": {
   "codemirror_mode": {
    "name": "ipython",
    "version": 3
   },
   "file_extension": ".py",
   "mimetype": "text/x-python",
   "name": "python",
   "nbconvert_exporter": "python",
   "pygments_lexer": "ipython3",
   "version": "3.8.5"
  }
 },
 "nbformat": 4,
 "nbformat_minor": 4
}
