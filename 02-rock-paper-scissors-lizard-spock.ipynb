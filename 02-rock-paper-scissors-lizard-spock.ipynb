{
 "cells": [
  {
   "cell_type": "markdown",
   "metadata": {},
   "source": [
    "# Rock, Paper, Scissors, Lizard & Spock\n",
    "![](images/rpsls.jpg)\n",
    "\n",
    "In this challenge, you need to improve the previous game by adding two new options. To know more about the rules of the improved version of rock, paper, scissors, check this [link](http://www.samkass.com/theories/RPSSL.html). \n",
    "\n",
    "In addition, you will also need to improve how the game interacts with the player: the number of rounds to play, which must be an odd number, will be requested to the user until a valid number is entered. Define a new function to make that request.\n",
    "\n",
    "**Hint**: Try to reuse the code that you already coded in the previous challenge. If your code is efficient, this bonus will only consist of simple modifications to the original game."
   ]
  },
  {
   "cell_type": "code",
   "execution_count": 6,
   "metadata": {},
   "outputs": [
    {
     "name": "stdin",
     "output_type": "stream",
     "text": [
      "How many rounds do you want to play?? (must be an odd number) 4\n"
     ]
    },
    {
     "name": "stdout",
     "output_type": "stream",
     "text": [
      "Remember, must be and odd number\n"
     ]
    },
    {
     "name": "stdin",
     "output_type": "stream",
     "text": [
      "How many rounds do you want to play?? (must be an odd number) 3\n",
      "Rock, Paper, Scissors, Lizard or Spock!!:   spock\n"
     ]
    },
    {
     "name": "stdout",
     "output_type": "stream",
     "text": [
      "The computer won this round... Score board: Player: 0 CPU: 1\n"
     ]
    },
    {
     "name": "stdin",
     "output_type": "stream",
     "text": [
      "Rock, Paper, Scissors, Lizard or Spock!!:   spock\n"
     ]
    },
    {
     "name": "stdout",
     "output_type": "stream",
     "text": [
      "You won this round!! Score board: Player: 1 CPU: 1\n"
     ]
    },
    {
     "name": "stdin",
     "output_type": "stream",
     "text": [
      "Rock, Paper, Scissors, Lizard or Spock!!:   lizard\n"
     ]
    },
    {
     "data": {
      "text/plain": [
       "'You smashed the game! ScoreBoard: Player: 2 CPU: 1'"
      ]
     },
     "execution_count": 6,
     "metadata": {},
     "output_type": "execute_result"
    }
   ],
   "source": [
    "n_rounds = 0\n",
    "rounds_to_win = round((n_rounds/2))\n",
    "cpu_score = 0\n",
    "player_score = 0\n",
    "def computer_choice():\n",
    "    from random import randint\n",
    "    gestures = [\"rock\", \"paper\", \"scissors\", \"lizard\", \"spock\"]\n",
    "    return gestures[randint(0,2)]\n",
    "def election():\n",
    "    x = False\n",
    "    while x == False:\n",
    "        str = input(\"Rock, Paper, Scissors, Lizard or Spock!!:  \")\n",
    "        if str.lower() == \"rock\" or str.lower() == \"paper\" or str.lower() == \"scissors\" or str.lower() == \"lizard\" or str.lower() == \"spock\":\n",
    "            x = True\n",
    "            return str.lower()\n",
    "        else:\n",
    "            return f\"That is not what I ask for\"\n",
    "def result():\n",
    "    computer = computer_choice()\n",
    "    player = election()\n",
    "    if player == computer:\n",
    "        return \"0\"\n",
    "    elif computer == \"rock\":\n",
    "        if player == \"paper\":\n",
    "            return \"2\"\n",
    "        if player == \"lizard\":\n",
    "            return \"1\"\n",
    "        if player == \"spock\":\n",
    "            return \"2\"\n",
    "        else: \n",
    "            return \"1\"\n",
    "    elif computer == \"paper\":\n",
    "        if player == \"scissors\":\n",
    "            return \"2\"\n",
    "        if player == \"lizard\":\n",
    "            return \"2\"\n",
    "        if player == \"spock\":\n",
    "            return \"1\"\n",
    "        else:\n",
    "            return \"1\"\n",
    "    elif computer == \"scissors\":\n",
    "        if player == \"rock\":\n",
    "            return \"2\"\n",
    "        if player == \"lizard\":\n",
    "            return \"1\"\n",
    "        if player == \"spock\":\n",
    "            return \"2\"\n",
    "        else:\n",
    "            return \"1\"\n",
    "def nueve():\n",
    "    global player_score \n",
    "    global cpu_score\n",
    "    resultado = result()\n",
    "    if resultado == \"2\":\n",
    "        player_score += 1\n",
    "        return f\"You won this round!! Score board: Player: {player_score} CPU: {cpu_score}\"\n",
    "    if resultado == \"1\":\n",
    "        cpu_score += 1\n",
    "        return f\"The computer won this round... Score board: Player: {player_score} CPU: {cpu_score}\"\n",
    "    else:\n",
    "        return f\"There is a tie! Score board: Player: {player_score} CPU: {cpu_score} \"\n",
    "def game():\n",
    "    n_rounds = 0\n",
    "    while int(n_rounds) % 2 == 0:\n",
    "        n_rounds = int(input(\"How many rounds do you want to play?? (must be an odd number)\"))\n",
    "        if n_rounds % 2 == 0:\n",
    "            print(\"Remember, must be and odd number\")\n",
    "    rounds = 0\n",
    "    global rounds_to_win\n",
    "    global player_score \n",
    "    global cpu_score\n",
    "    while rounds != n_rounds -1 or rounds_to_win > player_score or rounds_to_win > cpu_score:\n",
    "        print(nueve())\n",
    "        rounds += 1\n",
    "    nueve()\n",
    "    if player_score > cpu_score:\n",
    "        return f\"You smashed the game! ScoreBoard: Player: {player_score} CPU: {cpu_score}\"\n",
    "    if cpu_score > player_score:\n",
    "        return f\"You lose...we wish you better luck next time! ScoreBoard: Player: {player_score} CPU: {cpu_score}\"\n",
    "    if cpu_score == player_score:\n",
    "        return f\"Tie! ScoreBoard: Player: {player_score} CPU: {cpu_score}\"\n",
    "game()"
   ]
  },
  {
   "cell_type": "code",
   "execution_count": null,
   "metadata": {},
   "outputs": [],
   "source": []
  }
 ],
 "metadata": {
  "kernelspec": {
   "display_name": "Python 3",
   "language": "python",
   "name": "python3"
  },
  "language_info": {
   "codemirror_mode": {
    "name": "ipython",
    "version": 3
   },
   "file_extension": ".py",
   "mimetype": "text/x-python",
   "name": "python",
   "nbconvert_exporter": "python",
   "pygments_lexer": "ipython3",
   "version": "3.8.5"
  },
  "toc": {
   "base_numbering": 1,
   "nav_menu": {},
   "number_sections": true,
   "sideBar": true,
   "skip_h1_title": false,
   "title_cell": "Table of Contents",
   "title_sidebar": "Contents",
   "toc_cell": false,
   "toc_position": {},
   "toc_section_display": true,
   "toc_window_display": false
  }
 },
 "nbformat": 4,
 "nbformat_minor": 5
}
